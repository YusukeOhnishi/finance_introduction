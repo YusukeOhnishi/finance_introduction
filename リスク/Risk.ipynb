{
 "cells": [
  {
   "cell_type": "code",
   "execution_count": 1,
   "id": "d2ff8478-2e5c-4f4a-b3d5-ee53a665d6d8",
   "metadata": {},
   "outputs": [],
   "source": [
    "#ライブラリのインポート\n",
    "import numpy as np\n",
    "import matplotlib.pyplot as plt\n",
    "import pandas as pd\n",
    "from pandas_datareader import data as wb\n",
    "%matplotlib inline"
   ]
  },
  {
   "cell_type": "code",
   "execution_count": 2,
   "id": "3a4e6b67-bcff-494b-a667-52536773401c",
   "metadata": {},
   "outputs": [
    {
     "data": {
      "text/html": [
       "<div>\n",
       "<style scoped>\n",
       "    .dataframe tbody tr th:only-of-type {\n",
       "        vertical-align: middle;\n",
       "    }\n",
       "\n",
       "    .dataframe tbody tr th {\n",
       "        vertical-align: top;\n",
       "    }\n",
       "\n",
       "    .dataframe thead th {\n",
       "        text-align: right;\n",
       "    }\n",
       "</style>\n",
       "<table border=\"1\" class=\"dataframe\">\n",
       "  <thead>\n",
       "    <tr style=\"text-align: right;\">\n",
       "      <th></th>\n",
       "      <th>4755.T</th>\n",
       "      <th>7203.T</th>\n",
       "      <th>7974.T</th>\n",
       "    </tr>\n",
       "    <tr>\n",
       "      <th>Date</th>\n",
       "      <th></th>\n",
       "      <th></th>\n",
       "      <th></th>\n",
       "    </tr>\n",
       "  </thead>\n",
       "  <tbody>\n",
       "    <tr>\n",
       "      <th>2010-01-04</th>\n",
       "      <td>687.775696</td>\n",
       "      <td>521.374878</td>\n",
       "      <td>17806.091797</td>\n",
       "    </tr>\n",
       "    <tr>\n",
       "      <th>2010-01-05</th>\n",
       "      <td>694.499817</td>\n",
       "      <td>509.982483</td>\n",
       "      <td>18051.093750</td>\n",
       "    </tr>\n",
       "    <tr>\n",
       "      <th>2010-01-06</th>\n",
       "      <td>686.815125</td>\n",
       "      <td>522.045044</td>\n",
       "      <td>19363.035156</td>\n",
       "    </tr>\n",
       "    <tr>\n",
       "      <th>2010-01-07</th>\n",
       "      <td>663.761169</td>\n",
       "      <td>516.013855</td>\n",
       "      <td>20200.785156</td>\n",
       "    </tr>\n",
       "    <tr>\n",
       "      <th>2010-01-08</th>\n",
       "      <td>659.918945</td>\n",
       "      <td>530.756897</td>\n",
       "      <td>20271.910156</td>\n",
       "    </tr>\n",
       "  </tbody>\n",
       "</table>\n",
       "</div>"
      ],
      "text/plain": [
       "                4755.T      7203.T        7974.T\n",
       "Date                                            \n",
       "2010-01-04  687.775696  521.374878  17806.091797\n",
       "2010-01-05  694.499817  509.982483  18051.093750\n",
       "2010-01-06  686.815125  522.045044  19363.035156\n",
       "2010-01-07  663.761169  516.013855  20200.785156\n",
       "2010-01-08  659.918945  530.756897  20271.910156"
      ]
     },
     "execution_count": 2,
     "metadata": {},
     "output_type": "execute_result"
    }
   ],
   "source": [
    "#銘柄の証券コードをリストに格納\n",
    "#4755:楽天グループ\n",
    "#7203:トヨタ自動車\n",
    "#7974:任天堂\n",
    "SCode=['4755.T','7203.T','7974.T']\n",
    "\n",
    "#データ格納用の変数を用意\n",
    "data=pd.DataFrame()\n",
    "\n",
    "for i in SCode:\n",
    "    data[i]=wb.DataReader(i,data_source='yahoo',start='2010-1-1',end='2019-12-31')['Adj Close']\n",
    "    \n",
    "data.head()"
   ]
  },
  {
   "cell_type": "code",
   "execution_count": 3,
   "id": "775d2a0e-b2c0-4458-a7ea-0bc7e54ecb08",
   "metadata": {},
   "outputs": [
    {
     "name": "stdout",
     "output_type": "stream",
     "text": [
      "4755.T\n",
      "========================\n",
      "平均： 0.030709385449062064\n",
      "分散： 0.00045702395786095584\n",
      "\n",
      "7203.T\n",
      "========================\n",
      "平均： 0.10401220118915462\n",
      "分散： 0.0002502766198504855\n",
      "\n",
      "7974.T\n",
      "========================\n",
      "平均： 0.08254623120870744\n",
      "分散： 0.0006423220459564493\n",
      "\n"
     ]
    }
   ],
   "source": [
    "#利益率計算(対数利益率)\n",
    "returns_log=np.log(data/data.shift(1))\n",
    "\n",
    "#それぞれの株式に対して平均と分散を計算\n",
    "for SC in SCode:\n",
    "    print(SC)\n",
    "    print(\"========================\")\n",
    "    #平均利益率の計算\n",
    "    print(\"平均：\",np.mean(returns_log[SC])*250)\n",
    "    #分散の計算\n",
    "    print(\"分散：\",np.std(returns_log[SC])**2)\n",
    "    print()"
   ]
  },
  {
   "cell_type": "code",
   "execution_count": 4,
   "id": "ca799f0d-930a-4bde-b8b9-eb35d5bfd38c",
   "metadata": {},
   "outputs": [
    {
     "data": {
      "text/html": [
       "<div>\n",
       "<style scoped>\n",
       "    .dataframe tbody tr th:only-of-type {\n",
       "        vertical-align: middle;\n",
       "    }\n",
       "\n",
       "    .dataframe tbody tr th {\n",
       "        vertical-align: top;\n",
       "    }\n",
       "\n",
       "    .dataframe thead th {\n",
       "        text-align: right;\n",
       "    }\n",
       "</style>\n",
       "<table border=\"1\" class=\"dataframe\">\n",
       "  <thead>\n",
       "    <tr style=\"text-align: right;\">\n",
       "      <th></th>\n",
       "      <th>4755.T</th>\n",
       "      <th>7203.T</th>\n",
       "      <th>7974.T</th>\n",
       "    </tr>\n",
       "  </thead>\n",
       "  <tbody>\n",
       "    <tr>\n",
       "      <th>4755.T</th>\n",
       "      <td>0.000457</td>\n",
       "      <td>0.000116</td>\n",
       "      <td>0.000134</td>\n",
       "    </tr>\n",
       "    <tr>\n",
       "      <th>7203.T</th>\n",
       "      <td>0.000116</td>\n",
       "      <td>0.000250</td>\n",
       "      <td>0.000154</td>\n",
       "    </tr>\n",
       "    <tr>\n",
       "      <th>7974.T</th>\n",
       "      <td>0.000134</td>\n",
       "      <td>0.000154</td>\n",
       "      <td>0.000643</td>\n",
       "    </tr>\n",
       "  </tbody>\n",
       "</table>\n",
       "</div>"
      ],
      "text/plain": [
       "          4755.T    7203.T    7974.T\n",
       "4755.T  0.000457  0.000116  0.000134\n",
       "7203.T  0.000116  0.000250  0.000154\n",
       "7974.T  0.000134  0.000154  0.000643"
      ]
     },
     "execution_count": 4,
     "metadata": {},
     "output_type": "execute_result"
    }
   ],
   "source": [
    "conv_mat=returns_log.cov()\n",
    "conv_mat"
   ]
  },
  {
   "cell_type": "code",
   "execution_count": 5,
   "id": "135644b3-fcca-48b1-a334-13f3d742341b",
   "metadata": {},
   "outputs": [
    {
     "data": {
      "text/html": [
       "<div>\n",
       "<style scoped>\n",
       "    .dataframe tbody tr th:only-of-type {\n",
       "        vertical-align: middle;\n",
       "    }\n",
       "\n",
       "    .dataframe tbody tr th {\n",
       "        vertical-align: top;\n",
       "    }\n",
       "\n",
       "    .dataframe thead th {\n",
       "        text-align: right;\n",
       "    }\n",
       "</style>\n",
       "<table border=\"1\" class=\"dataframe\">\n",
       "  <thead>\n",
       "    <tr style=\"text-align: right;\">\n",
       "      <th></th>\n",
       "      <th>4755.T</th>\n",
       "      <th>7203.T</th>\n",
       "      <th>7974.T</th>\n",
       "    </tr>\n",
       "  </thead>\n",
       "  <tbody>\n",
       "    <tr>\n",
       "      <th>4755.T</th>\n",
       "      <td>1.000000</td>\n",
       "      <td>0.341938</td>\n",
       "      <td>0.246764</td>\n",
       "    </tr>\n",
       "    <tr>\n",
       "      <th>7203.T</th>\n",
       "      <td>0.341938</td>\n",
       "      <td>1.000000</td>\n",
       "      <td>0.383232</td>\n",
       "    </tr>\n",
       "    <tr>\n",
       "      <th>7974.T</th>\n",
       "      <td>0.246764</td>\n",
       "      <td>0.383232</td>\n",
       "      <td>1.000000</td>\n",
       "    </tr>\n",
       "  </tbody>\n",
       "</table>\n",
       "</div>"
      ],
      "text/plain": [
       "          4755.T    7203.T    7974.T\n",
       "4755.T  1.000000  0.341938  0.246764\n",
       "7203.T  0.341938  1.000000  0.383232\n",
       "7974.T  0.246764  0.383232  1.000000"
      ]
     },
     "execution_count": 5,
     "metadata": {},
     "output_type": "execute_result"
    }
   ],
   "source": [
    "corr_mat=returns_log.corr()\n",
    "corr_mat"
   ]
  },
  {
   "cell_type": "code",
   "execution_count": null,
   "id": "788156f6-77b0-4c7a-8c27-38527478e7a3",
   "metadata": {},
   "outputs": [],
   "source": []
  }
 ],
 "metadata": {
  "kernelspec": {
   "display_name": "Python 3 (ipykernel)",
   "language": "python",
   "name": "python3"
  },
  "language_info": {
   "codemirror_mode": {
    "name": "ipython",
    "version": 3
   },
   "file_extension": ".py",
   "mimetype": "text/x-python",
   "name": "python",
   "nbconvert_exporter": "python",
   "pygments_lexer": "ipython3",
   "version": "3.8.10"
  }
 },
 "nbformat": 4,
 "nbformat_minor": 5
}
