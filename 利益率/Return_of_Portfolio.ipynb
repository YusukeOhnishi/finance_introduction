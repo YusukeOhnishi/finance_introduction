{
 "cells": [
  {
   "cell_type": "code",
   "execution_count": 1,
   "id": "4aaa77b5-90d9-496e-bacc-3a5ef33bc650",
   "metadata": {},
   "outputs": [],
   "source": [
    "#ライブラリのインポート\n",
    "import numpy as np\n",
    "import matplotlib.pyplot as plt\n",
    "import pandas_datareader.data as wb\n",
    "import pandas as pd\n",
    "%matplotlib inline"
   ]
  },
  {
   "cell_type": "code",
   "execution_count": null,
   "id": "141b9907-66a4-4087-b485-6e73749de1a9",
   "metadata": {},
   "outputs": [],
   "source": [
    "#銘柄の証券コードをリストに格納\n",
    "#4755:楽天グループ\n",
    "#7203:トヨタ自動車\n",
    "#7974:任天堂\n",
    "SCode=['4755.T','7203.T','7974.T']\n",
    "\n",
    "#データ格納用の変数を用意\n",
    "data=pd.DataFrame()\n",
    "\n",
    "for i in SCode:\n",
    "    data[i]=wb.DataReader(i,data_source='yahoo',start='2020-1-1',end='2021-12-31')['Adj Close']\n",
    "    \n",
    "data.head()"
   ]
  },
  {
   "cell_type": "code",
   "execution_count": null,
   "id": "9408ac21-0272-448c-ad8d-3efeb9ba6ded",
   "metadata": {},
   "outputs": [],
   "source": [
    "#正規化したものを図示\n",
    "data_norm=data/data.iloc[0]*100\n",
    "\n",
    "plt.figure(figsize=(10,4))\n",
    "for i in SCode:\n",
    "    plt.plot(data_norm.index,data_norm[i],label=i)\n",
    "plt.legend()\n",
    "\n",
    "plt.savefig('./image/fig_value_norm.jpg')\n",
    "plt.show()"
   ]
  },
  {
   "cell_type": "code",
   "execution_count": null,
   "id": "2b06b2f2-77e2-417b-a33f-3eccd21a67b3",
   "metadata": {},
   "outputs": [],
   "source": [
    "#利益率の計算\n",
    "returns=(data/data.shift(1))-1\n",
    "returns.head()"
   ]
  },
  {
   "cell_type": "code",
   "execution_count": null,
   "id": "03a19b75-7525-48c2-8aa5-e8b8797a409d",
   "metadata": {},
   "outputs": [],
   "source": [
    "#重み定義\n",
    "w=np.array([0.2,0.3,0.5])\n",
    "\n",
    "#1日あたりの利益率\n",
    "returns_d=returns.mean()\n",
    "\n",
    "#1年あたりの利益率\n",
    "returns_a=returns_d*250\n",
    "\n",
    "print('個別銘柄の利益率')\n",
    "print(round(returns_a,4)*100)\n",
    "\n",
    "#ポートフォリオの利益率の計算\n",
    "returns_portfolio=np.dot(returns_a,w)\n",
    "\n",
    "print()\n",
    "print('ポートフォリオの利益率')\n",
    "print(str(round(returns_portfolio,4)*100)+'%')"
   ]
  },
  {
   "cell_type": "code",
   "execution_count": null,
   "id": "2b7b08d6-1bc5-4bd4-b4df-8a74436c6af9",
   "metadata": {},
   "outputs": [],
   "source": []
  }
 ],
 "metadata": {
  "kernelspec": {
   "display_name": "Python 3 (ipykernel)",
   "language": "python",
   "name": "python3"
  },
  "language_info": {
   "codemirror_mode": {
    "name": "ipython",
    "version": 3
   },
   "file_extension": ".py",
   "mimetype": "text/x-python",
   "name": "python",
   "nbconvert_exporter": "python",
   "pygments_lexer": "ipython3",
   "version": "3.8.10"
  }
 },
 "nbformat": 4,
 "nbformat_minor": 5
}
